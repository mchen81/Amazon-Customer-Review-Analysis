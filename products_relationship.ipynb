{
 "cells": [
  {
   "cell_type": "markdown",
   "metadata": {},
   "source": [
    "# Amazon Products Relevance Analysis\n",
    "\n",
    "## Goal\n",
    "Our goad is to find out the relationship between any two products in Amazon. For example, if a person buys package of coffee bean, s/he might also buy a set of filter papers. We can see the coffee beans is somehow connected to the filter papers. \n",
    "\n",
    "## Algorithm\n",
    "The strategy we are using to analyze is based on [Combination](https://en.wikipedia.org/wiki/Combination). The products that being bought by a user at the same month will be collected in to a [Set](https://en.wikipedia.org/wiki/Set_(mathematics))(as product's id). We will get the combination(choose 2) from the set and count the number of each combination. The set will be sorted first to avoid the cases having identical elements but in different order(like (A, B) and (B, A)). Next, we will also have each product's count where how many users have bought the product. And we take the [Intersection](https://en.wikipedia.org/wiki/Intersection) as the relevance of any two products.\n",
    "\n",
    "\n",
    "## Example\n",
    "Say a person A left reviews for products {X, Y, Z} in the same month. Another person B left reviews for {K, X, Z}. The combination for A is {(X, Y), (X, Z), (Y, Z)}, and {(K, X), (K, Z), (X, Z)} for B. The counts of c(X), c(Z), and c({X, Z}) are all 2. We can have the intersection between X and Z\n",
    "```\n",
    "2 / (2 + 2 - 2) = 100%. \n",
    "```\n",
    "\n",
    "The dividend is c({X, Z}), and the divisor is x(X) + c(Z) - c({X, Z}).  So now we can give X and Z a 100% relevance score.   \n",
    "\n",
    "We also can have the relevance between X and Y. \n",
    "```\n",
    "c({X, Y}) / c(x) + c(y) - c({X, Y}) = 50%\n",
    "(c(x) =2, c(y)=1 and c({X, Y}) = 1)\n",
    "```\n",
    "\n",
    "## Pre-process\n",
    "Because amazon's review are really huge(126GB) so we need pre-preproces \n",
    "The pre-prcess is introduced in ....\n",
    "\n",
    "\n"
   ]
  },
  {
   "cell_type": "code",
   "execution_count": 14,
   "metadata": {},
   "outputs": [],
   "source": [
    "from itertools import combinations\n",
    "def parse_line(line):\n",
    "    infos = line.split('\\t')\n",
    "    # date, products\n",
    "    return (infos[0] + infos[1], infos[2])\n",
    "\n",
    "def distinct_products(products):\n",
    "    products_list = set(products)\n",
    "    distinct = []\n",
    "    for p in products:\n",
    "        distinct.append((p, 1))\n",
    "    return distinct\n",
    "\n",
    "def combine_products(products): # [products]\n",
    "    products_list = list(set(products))\n",
    "    products_list.sort()\n",
    "    return combinations(products_list, 2)\n"
   ]
  },
  {
   "cell_type": "markdown",
   "metadata": {},
   "source": [
    "### Group Data\n",
    "The parsed data is in the format of date, user_id, product_id seperated by tab. We concatenate date and user's id as key, and product's id as value. Therefore, when we gorup data by key, the value is the products that the user bought in the same month. "
   ]
  },
  {
   "cell_type": "code",
   "execution_count": null,
   "metadata": {},
   "outputs": [],
   "source": [
    "grouped_data = sc.textFile('/amazon-reviews/parsed_data/') \\\n",
    "    .map(lambda line: parse_line(line)).groupByKey()"
   ]
  },
  {
   "cell_type": "markdown",
   "metadata": {},
   "source": [
    "### Two Products Occurence\n",
    "After data is grouped, we can get any two products' occurrence. Note here we only take the occurrence which has at least 1,000 times because we want to make the analysis accurate and credible. So we discard those combinations which have too few times being purchased."
   ]
  },
  {
   "cell_type": "code",
   "execution_count": 15,
   "metadata": {},
   "outputs": [],
   "source": [
    "two_products_occ = grouped_data\\\n",
    "    .flatMap(lambda row: combine_products(row[1]))\\\n",
    "    .map(lambda comb: (comb, 1))\\\n",
    "    .reduceByKey(lambda a, b: a + b)\\\n",
    "    .map(lambda reduced: (reduced[0][0], reduced[0][1], reduced[1]))\\\n",
    "    .filter(lambda row: row[2] > 1000) "
   ]
  },
  {
   "cell_type": "markdown",
   "metadata": {},
   "source": [
    "### Products Count\n",
    "We also need to count how many times each product is purchased in order to calculate the intersection. Because the computation is on the distributed system(RDD). The global product-count dictionary would not be taken on different machines. So the **Broadcast** is useful here that we can populate the dict to all cluster machines. "
   ]
  },
  {
   "cell_type": "code",
   "execution_count": 16,
   "metadata": {},
   "outputs": [],
   "source": [
    "products_count = grouped_data\\\n",
    "    .flatMap(lambda row: distinct_products(row[1]))\\\n",
    "    .reduceByKey(lambda a, b: a + b)\\\n",
    "\n",
    "products_count = sc.broadcast(products_count.collectAsMap())"
   ]
  },
  {
   "cell_type": "markdown",
   "metadata": {},
   "source": [
    "### Calculate the relevance\n",
    "\n",
    "As introduced above, the equation to calculate the relevance aboe is \n",
    "```\n",
    "(c({A, B}) / c(A) + c(B) - c({A, B})) * 100%\n",
    "```\n",
    "where c(A) and c(B) is from the *product_count* dict, and c({A, B}) is from the *two_products_occ*"
   ]
  },
  {
   "cell_type": "code",
   "execution_count": 18,
   "metadata": {},
   "outputs": [],
   "source": [
    "def cal_relationship(row):\n",
    "    p1 = row[0]\n",
    "    p2 = row[1]\n",
    "    occurrence = row[2]\n",
    "    products_count_dict = products_count.value\n",
    "    p12_sum = products_count_dict[p1] + products_count_dict[p2]\n",
    "    relevance = (occurrence / (p12_sum - occurrence)) * 100\n",
    "    return (p1, p2, relevance)\n",
    "\n",
    "products_relevance = two_products_occ \\\n",
    "    .map(lambda row: cal_relationship(row)) \\\n",
    "    .sortBy(lambda row: -row[2]) \\\n"
   ]
  },
  {
   "cell_type": "markdown",
   "metadata": {},
   "source": [
    "### Save to file\n",
    "Here we can keep the analysis result as a text file on HDFS. "
   ]
  },
  {
   "cell_type": "code",
   "execution_count": 19,
   "metadata": {},
   "outputs": [],
   "source": [
    "products_relevance\\\n",
    "    .map(lambda row: \"{}\\t{}\\t{:.2f}\".format(row[0], row[1], row[2]))\\\n",
    "    .saveAsTextFile('/amazon-reviews-analysis/')"
   ]
  },
  {
   "cell_type": "markdown",
   "metadata": {},
   "source": [
    "###  Metadata\n",
    "We cannot get any information from a product's id at all from the analysis, so we have to import the metadata and make a query for those ids.  \n",
    "The metadata we are using here is also from [Amazon review data (2018)](http://deepyeti.ucsd.edu/jianmo/amazon/index.html), but we transform the data to only include brand, category, produc_id, and title so the performance will be better. \n"
   ]
  },
  {
   "cell_type": "code",
   "execution_count": 21,
   "metadata": {},
   "outputs": [],
   "source": [
    "metadata = spark.read.json('/amazon-meta/parsed_metadata/')"
   ]
  },
  {
   "cell_type": "code",
   "execution_count": 22,
   "metadata": {},
   "outputs": [
    {
     "name": "stdout",
     "output_type": "stream",
     "text": [
      "root\n",
      " |-- brand: string (nullable = true)\n",
      " |-- category: string (nullable = true)\n",
      " |-- product_id: string (nullable = true)\n",
      " |-- title: string (nullable = true)\n",
      "\n"
     ]
    }
   ],
   "source": [
    "metadata.printSchema()"
   ]
  },
  {
   "cell_type": "markdown",
   "metadata": {},
   "source": [
    "### Analysis result\n",
    "We pick up the top 100 combinations which are the most related. We can evaluate them now by its title. In the output showing below, we can see there are some combinations having almost similar or identical elements(but we did filter out those products with the same id)"
   ]
  },
  {
   "cell_type": "code",
   "execution_count": 25,
   "metadata": {
    "scrolled": true
   },
   "outputs": [
    {
     "name": "stdout",
     "output_type": "stream",
     "text": [
      "The Man From Snowy River VHS\tThe Man From Snowy River\t100.0\n",
      "Moxeay V-Neck One Piece Bodysuit Bodycon Rompers Overall\tMoxeay V-Neck One Piece Bodysuit Bodycon Rompers Overall\t100.0\n",
      "The Quiet Man VHS\tThe Quiet Man\t100.0\n",
      "Durango Men's 11&quot; Harness Boot\tDurango Men's 11&quot; Harness Boot\t100.0\n",
      "Haggar Men's Work-To-Weekend No-Iron Pleat-Front Pant with Hidden Expandable Waist\tHaggar Men's Work-To-Weekend No-Iron Pleat-Front Pant with Hidden Expandable Waist\t100.0\n",
      "The Big Lebowski VHS\tThe Big Lebowski VHS\t100.0\n",
      "Carhartt Men's Canvas Work Dungaree Pant B151\t Carhartt Men&#39;s Canvas Work Dungaree Pant B151\t100.0\n",
      "Capezio Daisy 205 Ballet Shoe (Toddler/Little Kid)\tCapezio Daisy 205 Ballet Shoe (Toddler/Little Kid)\t100.0\n",
      "Russell Athletic Men Cotton Tanks\tRussell Athletic Men&rsquo;s Essential Cotton Tank Top\t100.0\n",
      "CleanTools 42149 The Absorber Synthetic Drying Chamois, 27\" x 17\", Blue\tCleanTools 51149 The Absorber Synthetic Drying Chamois, 27\" x 17\", Natural\t100.0\n",
      "Vans Herren Authentic Core Classic Sneakers\tVans Authentic Core Classic Sneakers,VANS,Authentic\" />\t100.0\n",
      "Carhartt Men's Canvas Work Dungaree Pant B151\tCarhartt Men's Canvas Work Dungaree Pant B151\t100.0\n",
      "UGG Women's Classic Short\tUGG Women's Classic Short\t100.0\n",
      "TETON Sports Mammoth Queen-Size Double Sleeping Bag; Warm and Comfortable for Family Camping\tTETON Sports Mammoth Queen-Size Double Sleeping Bag; Warm and Comfortable for Family Camping\t100.0\n",
      "Durango Men's 11&quot; Harness Boot\tDurango Men's 11&quot; Harness Boot\t100.0\n",
      "Shaun of the Dead\tShaun of the Dead\t100.0\n",
      "Carhartt Men's Canvas Work Dungaree Pant B151\t Carhartt Men&#39;s Canvas Work Dungaree Pant B151\t100.0\n",
      "Bride and Prejudice\tBride &amp; Prejudice\t100.0\n",
      "Carhartt Men's Washed Duck Work Dungaree Utility Pant B11\tCarhartt Men's Washed Duck Work Dungaree Utility Pant B11\t100.0\n",
      "Skechers Men's Verdict Men's Boot\tSkechers Men's Verdict Men's Boot\t100.0\n",
      "Carhartt Men's Loose Fit Five Pocket Canvas Carpenter Pant B159\tCarhartt Men's Loose Fit Five Pocket Canvas Carpenter Pant B159\t100.0\n",
      "Case Logic KSW-32 32 Capacity CD/DVD Prosleeve Wallet (Black)\tCase Logic KSW-92 Koskin 100 Capacity CD/DVD Prosleeve Wallet (Black)\t100.0\n",
      "Without Remorse\tWithout Remorse\t100.0\n",
      "The First Phone Call From Heaven: A Novel - Kindle edition\tThe First Phone Call from Heaven: A Novel\t100.0\n",
      "Timberland Men's Flume Waterproof Boot\tTimberland Men's Flume Waterproof Boot\t100.0\n",
      "LEE Men's Stain Resistant Relaxed Fit Flat Front Pant\tLEE Men's Stain Resistant Relaxed Fit Flat Front Pant\t100.0\n",
      "Durango Men's 11&quot; Harness Boot\tDurango Men's 11&quot; Harness Boot\t100.0\n",
      "Sebago Men's Clovehitch Ii Oxford\tSebago Men's Clovehitch Ii Oxford\t100.0\n",
      "The First Phone Call from Heaven: A Novel\tThe First Phone Call from Heaven\t99.966239027684\n",
      "The Lake House: The House of Riverton 05\tThe Lake House: A Novel\t99.96175908221797\n",
      "Merrell Moab Ventilator Wide Width Men 11.5\tMerrell Men's Moab Ventilator Hiking Shoe\t99.96136012364761\n",
      "Sebago Men's Clovehitch Ii Oxford\tSebago Men's Clovehitch Ii Oxford\t99.93746091307067\n",
      "Flyboys\tFlyboys Full Screen\t99.93614303959131\n",
      "The First Phone Call from Heaven: A Novel\t{ { [ THE FIRST PHONE CALL FROM HEAVEN ] By Albom, Mitch ( Author ) Nov - 2013 [ Hardcover ]\t99.93250084373946\n",
      "The First Phone Call From Heaven: A Novel - Kindle edition\t{ { [ THE FIRST PHONE CALL FROM HEAVEN ] By Albom, Mitch ( Author ) Nov - 2013 [ Hardcover ]\t99.93250084373946\n",
      "The Second Best Exotic Marigold Hotel [DVD] [2015]\tBest Exotic Marigold Hotel 2\t99.9320882852292\n",
      "A Feast for Crows (Song of Ice and Fire)\tA Feast for Crows\t99.92014374126572\n",
      "Caterpillar Men's Second Shift Steel Toe Work Boot\tCaterpillar Men's Second Shift Steel Toe Work Boot\t99.91863303498779\n",
      "Samsung 850 EVO - 500GB - M.2 SATA III Internal SSD (MZ-N5E500BW)\tSamsung 850 EVO - 1TB - M.2 SATA III Internal SSD (MZ-N5E1T0BW)\t99.9165971643036\n",
      "Old Friend Men's Moccasin Slipper\tOld Friend Men's Moccasin Slipper\t99.91645781119465\n",
      "Corazon de Caballero\tKnight's Tale\t99.9020568070519\n",
      "Wild\tWild\t99.90179229069483\n",
      "Sperry Top-Sider Men's Billfish 3-Eye Boat Shoe\tSperry Top-Sider Men's Billfish 3-Eye Boat Shoe\t99.89506820566632\n",
      "Lost in Shangri-La: Escape from a Hidden World - A True Story\tLost in Shangri-La: Escape from a Hidden World\t99.89247311827957\n",
      "Hidden (A Bone Secrets Novel)\tHidden (A Bone Secrets Novel)\t99.89212513484358\n",
      "Kingston 4 GB Class 4 SDHC Flash Memory Card SD4/4GB\tKingston 32 GB Class 4 SDHC Flash Memory Card SD4/32GB\t99.87903225806451\n",
      "Dickies Men's Loose-Fit Cargo Work Pant Stain &amp; Wrinkle Resistant Cotton/Poly\tDickies Men's Loose-Fit Cargo Work Pant Stain &amp; Wrinkle Resistant Cotton/Poly\t99.87819732034104\n",
      "PNY U3 High Performance 32GB High Speed MicroSDHC Class 10 UHS-I, up to 60MB/sec Flash Memory Card (P-SDU32GU360G-GE)\tPNY High Performance 16GB High Speed MicroSDHC Class 10 UHS-I, U1 up to 60MB/sec Flash Memory Card (P-SDU16GU160G-GE)\t99.87775061124694\n",
      "Commonwealth\tCommonwealth CD\t99.87336428872943\n",
      "Mad Max: Fury Road\tMad Max : Fury Road - Edition limit&eacute;e 3D - Coffret Voiture [Blu-ray]\t99.86391191389336\n",
      "Mansfield Park VHS\tMansfield Park VHS\t99.86043265875784\n",
      "Patton VHS\tPatton\t99.84773505900266\n",
      "Merrell Men's Jungle Moc Slip-On Shoe\tMerrell Men's Jungle Moc Slip-On Shoe\t99.84051036682615\n",
      "Field of Prey\tField Of Prey (Thorndike Press Large Print Basic)\t99.83506126295947\n",
      "Haggar Men's Cool 18 Hidden Expandable-Waist Plain-Front Pant\tHaggar Men's Cool 18 Hidden Expandable-Waist Plain-Front Pant\t99.83443708609272\n",
      "Old Friend Men's Moccasin Slipper\tOld Friend Men's Moccasin Slipper\t99.83277591973244\n",
      "The Couple Next Door\tThe couple next door.\t99.82876712328768\n",
      "Modway Aveline 8&quot; Gel Infused Memory Foam Queen Mattress With CertiPUR-US Certified Foam - 10-Year Warranty - Available In Multiple Sizes\tModway Aveline 6&quot; Gel Infused Memory Foam Twin Mattress With CertiPUR-US Certified Foam - 10-Year Warranty - Available In Multiple Sizes\t99.8262380538662\n",
      "Captivated by You (Crossfire)\tCaptivated by You (Crossfire)\t99.82209922909666\n",
      "Russell Athletic Men's Essential Long Sleeve Tee\tRussell Athletic Men's Essential Long Sleeve Tee\t99.81949458483754\n",
      "Midnight in the Garden of Good and Evil (AUDIO CD)\tMidnight in the Garden of Good and Evil\t99.8149290561382\n",
      "Walk\tThe Walk (Center Point Platinum Fiction)\t99.80787704130644\n",
      "KitchenAid 5-Speed Blenders with Polycarbonate Jars, White\tKitchenAid 5-Speed Blender with Polycarbonate Jar\t99.80295566502463\n",
      "Cordon Bleu Stoneware Mugs 6 Pieces\tNature's Garden Cardinal with Motion Activated Sound\t99.80217606330366\n",
      "Droid Mini Case, Dual Layer Shell Strike Impact Kickstand Case with Unique Graphic Images\tATUS Heavy Duty Dual Layer Holster Case Kick Stand with Locking Belt Swivel Clip For Samsung Galaxy Grand Prime G530 + HD Screen Protector\t99.80119284294234\n",
      "Bose SoundLink Bluetooth Speaker III\tLimited Edition SoundLink Bluetooth Speaker III - NFL Collection (Packers)\t99.8003992015968\n",
      "ISOTONER Women's Embroidered Clog\tISOTONER Women's Embroidered Clog\t99.79476654694716\n",
      "Levi&#39;s Men&#39;s 550 Relaxed-fit Jean,Levi&#39;s,010691\" />\tLevi's Men's 550 Relaxed-fit Jean\t99.77184977184977\n",
      "Dickies Men's Original 874 Work Pant\tDickies Men's Original 874 Work Pant\t99.76781308953707\n",
      "ASICS Men's Gel Kayano 21 Running Shoe\tASICS Men's Gel Kayano 21 Running Shoe\t99.76345357776464\n",
      "Carhartt Men's Washed Duck Work Dungaree Utility Pant B11\tCarhartt Men's Washed Duck Work Dungaree Utility Pant B11\t99.76275207591934\n",
      "Carhartt Men's Washed Duck Work Dungaree Utility Pant B11\tCarhartt Men's Washed Duck Work Dungaree Utility Pant B11\t99.76275207591934\n",
      "TWINTH Womens 3/4 Sleeve Dolman Drape Top with Side Shirring Loose Fit Tunic Top Plus Size\tTWINTH Womens 3/4 Sleeve Dolman Drape Top with Side Shirring Loose Fit Tunic Top Plus Size\t99.75990396158463\n",
      "The Untethered Soul: The Journey Beyond Yourself\tThe Untethered Soul: The Journey Beyond Yourself\t99.75124378109453\n",
      "Old Friend Men's Moccasin Slipper\tOld Friend Men's Moccasin Slipper\t99.74937343358395\n",
      "The God Delusion\tThe God Delusion\t99.74263654561052\n",
      "Requiem for a Dream Unrated Edition  VHS\tRequiem for a Dream - Director's Cut\t99.74042829331603\n",
      "Everlast Pro Style Training Gloves\tEverlast Pro Style Training Gloves\t99.72813774354327\n",
      "Dickies Men's Original 874 Work Pant\t Dickies Men&#39;s Original 874 Work Pant\t99.7265400115141\n",
      "Carhartt Men's Canvas Work Dungaree Pant B151\tCarhartt Men's Canvas Work Dungaree Pant B151\t99.72602739726028\n",
      "Carhartt Men's Canvas Work Dungaree Pant B151\tCarhartt Men's Canvas Work Dungaree Pant B151\t99.72602739726028\n",
      "Carhartt Men's Canvas Work Dungaree Pant B151\t Carhartt Men&#39;s Canvas Work Dungaree Pant B151\t99.72602739726028\n",
      "BLACK+DECKER HC306 1.5-Cup Electric Food Chopper, White\tBLACK+DECKER HC306 1.5-Cup Electric Food Chopper, White\t99.7212543554007\n",
      "CHEFVANTAGE Salt and Pepper Shakers Set with Adjustable Holes - Black and White\tCHEFVANTAGE Salt and Pepper Shakers Set with Adjustable Holes - White\t99.70896391152503\n",
      "Nest Protect Smoke and Carbon Monoxide Alarm, Battery Powered (Second Generation)\tNest Protect Smoke and Carbon Monoxide Alarm, Battery Powered (Second Generation)\t99.70881863560732\n",
      "Fisher-Price Bright Beats Dance &amp; Move BeatBo\tFisher-Price Bright Beats Dance &amp; Move BeatBo\t99.70605526161081\n",
      "iSeeker Bundle of 3 Durable 6.6ft/2m Nylon Braided Tangle-Free Micro USB Cable for Android, Samsung, HTC, Motorola, Nokia and More\tMicro USB Cable Bundle of 3 Durable 6.6ft/2m Nylon Braided Tangle-Free Cable for Samsung, HTC, Motorola, Nokia and More Smartphone (Orange)\t99.70530451866405\n",
      "Reckless (Thoughtless)\t Reckless (Thoughtless Book 3) eBook\t99.69325153374233\n",
      "State of Fear\tState of Fear\t99.68985378821445\n",
      "Reef Womens Sandals Ginger |  Slim Woven Strap Flip Flops for Women With Soft Cushion Footbed | Waterproof\tReef Womens Sandals Ginger |  Slim Woven Strap Flip Flops for Women With Soft Cushion Footbed | Waterproof\t99.68763944667559\n",
      "Stanley 33-116 16-Foot PowerLock Tape Rule\tStanley 33-430 Powerlock 30-Foot-by-1-Inch Measuring Tape\t99.68652037617555\n",
      "The Plan: Eliminate the Surprising 'Healthy' Foods that are Making You Fat - and Lose Weight Fast\tThe Plan: Eliminate the Surprising \"Healthy\" Foods That Are Making You Fat--and Lose Weight Fast (2014)\t99.68404423380727\n",
      "Jack the Giant Slayer\tJack the Giant Slayer\t99.67866323907455\n",
      "Dickies Men's Loose-Fit Cargo Work Pant Stain &amp; Wrinkle Resistant Cotton/Poly\tDickies Men's Loose-Fit Cargo Work Pant Stain &amp; Wrinkle Resistant Cotton/Poly\t99.6751928542428\n",
      "True Blood: Season 5\tTrue Blood: Season 5\t99.67497291440954\n",
      "Wrangler Men's Denim Jacket\tWrangler Men's Denim Jacket\t99.67386873216469\n",
      "ECCO Men's Yucatan Sandal\tECCO Men's Yucatan Sandal\t99.67159277504105\n",
      "Crocs Women's Patricia II Wedge Sandal\tCrocs Women's Patricia II Wedge Sandal\t99.67061923583663\n",
      "Looper\tLooper (Dvd,2012)\t99.66618979494515\n",
      "Safavieh Milan Shag Collection  Grey Square Area Rug (5'1&quot; Square)\tSafavieh Milan Shag Collection SG180-4040 Red Square Area Rug (5'1&quot; Square)\t99.66311061201573\n"
     ]
    }
   ],
   "source": [
    "from pyspark.sql.functions import col\n",
    "top100 = products_relevance.take(100)\n",
    "product_set = set()\n",
    "for row in top100:\n",
    "    product_set.add(row[0])\n",
    "    product_set.add(row[1])\n",
    "\n",
    "product_title = metadata.select('product_id', 'title').where(col('product_id').isin(product_set)).rdd \\\n",
    "                        .map(lambda row: (row['product_id'], row['title'])) \\\n",
    "                        .collectAsMap()\n",
    "\n",
    "for row in top100:\n",
    "    pro1 = product_title[row[0]]\n",
    "    pro2 = product_title[row[1]]\n",
    "    \n",
    "    print(\"{}\\t{}\\t{}\".format(pro1, pro2, row[2]))\n"
   ]
  }
 ],
 "metadata": {
  "kernelspec": {
   "display_name": "Python 3",
   "language": "python",
   "name": "python3"
  },
  "language_info": {
   "codemirror_mode": {
    "name": "ipython",
    "version": 3
   },
   "file_extension": ".py",
   "mimetype": "text/x-python",
   "name": "python",
   "nbconvert_exporter": "python",
   "pygments_lexer": "ipython3",
   "version": "3.7.3"
  }
 },
 "nbformat": 4,
 "nbformat_minor": 2
}
