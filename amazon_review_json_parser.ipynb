{
 "cells": [
  {
   "cell_type": "code",
   "execution_count": 3,
   "metadata": {},
   "outputs": [],
   "source": [
    "import json\n",
    "import datetime\n",
    "\n",
    "def json_parser(line):\n",
    "    data = json.loads(line)\n",
    "    timestamp = data[\"unixReviewTime\"]\n",
    "    dt = datetime.datetime.fromtimestamp(int(timestamp))\n",
    "    reviewer = data[\"reviewerID\"]\n",
    "    product_id = data[\"asin\"]\n",
    "    review_date =  str(dt.year) + '-' + str(dt.month) \n",
    "    return review_date + '\\t' + reviewer + '\\t' + product_id\n"
   ]
  },
  {
   "cell_type": "code",
   "execution_count": 4,
   "metadata": {},
   "outputs": [],
   "source": [
    "text_file = sc.textFile(\"hdfs://orion11:12001/amazon-reviews/All_Amazon_Review.json\")\n",
    "text_file.map(lambda line: json_parser(line)).collect().saveAsTextFile(\"hdfs://orion11:12001/amazon-reviews/parsed_data/\")\n"
   ]
  },
  {
   "cell_type": "code",
   "execution_count": 14,
   "metadata": {},
   "outputs": [],
   "source": [
    "def metadata_parser(line):\n",
    "    data = json.loads(line)\n",
    "    asin = ''\n",
    "    brand = ''\n",
    "    title = ''\n",
    "    category = ''\n",
    "    \n",
    "    if 'asin' in data:\n",
    "        asin = data['asin']\n",
    "        \n",
    "    if 'brand' in data:\n",
    "        brand = data['brand']\n",
    "        \n",
    "    if 'title' in data:\n",
    "        title = data['title']\n",
    "    \n",
    "    if 'category' in data:\n",
    "        if len(data['category']) > 0:\n",
    "            category = data['category'][0]\n",
    "    \n",
    "    parsed = {\n",
    "        'product_id': asin,\n",
    "        'category': category, \n",
    "        'brand' : brand,\n",
    "        'title' : title\n",
    "    }\n",
    "    # asin, category, brand, title, description\n",
    "    return json.dumps(parsed)"
   ]
  },
  {
   "cell_type": "code",
   "execution_count": 15,
   "metadata": {},
   "outputs": [],
   "source": [
    "import json\n",
    "metadata = sc.textFile(\"hdfs://orion11:12001/amazon-meta/All_Amazon_Meta.json\")\n",
    "metadata.map(lambda line: metadata_parser(line)).saveAsTextFile(\"hdfs://orion11:12001/amazon-meta/parsed_metadata/\")\n",
    "    "
   ]
  }
 ],
 "metadata": {
  "kernelspec": {
   "display_name": "Python 3",
   "language": "python",
   "name": "python3"
  },
  "language_info": {
   "codemirror_mode": {
    "name": "ipython",
    "version": 3
   },
   "file_extension": ".py",
   "mimetype": "text/x-python",
   "name": "python",
   "nbconvert_exporter": "python",
   "pygments_lexer": "ipython3",
   "version": "3.7.3"
  }
 },
 "nbformat": 4,
 "nbformat_minor": 2
}
