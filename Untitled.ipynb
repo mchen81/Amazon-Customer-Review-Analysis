{
 "cells": [
  {
   "cell_type": "code",
   "execution_count": 3,
   "metadata": {},
   "outputs": [
    {
     "name": "stdout",
     "output_type": "stream",
     "text": [
      "root\n",
      " |-- brand: string (nullable = true)\n",
      " |-- category: string (nullable = true)\n",
      " |-- product_id: string (nullable = true)\n",
      " |-- title: string (nullable = true)\n",
      "\n"
     ]
    }
   ],
   "source": [
    "#Task: Load the raw data from HDFS, filter out the fields we don't need. Then, write back to the HDFS\n",
    "metaDF = spark.read.json(\"hdfs://orion11:21001/parsed-meta/\")\n",
    "\n",
    "metaDF.createOrReplaceTempView(\"viewMetaData\")\n",
    "\n",
    "metaDF.printSchema()"
   ]
  },
  {
   "cell_type": "code",
   "execution_count": 6,
   "metadata": {},
   "outputs": [
    {
     "name": "stdout",
     "output_type": "stream",
     "text": [
      "+--------------------+----------+-----+------------------+\n",
      "|               title|      asin|count|     average_score|\n",
      "+--------------------+----------+-----+------------------+\n",
      "|Totes Kids Bubble...|B0017U1KBK| 1710| 4.194152046783626|\n",
      "|Carhartt Men's Lo...|B000GHMRLW| 1370| 4.313868613138686|\n",
      "|Vionic Women's Re...|B00YBILO5M|  698| 4.282234957020058|\n",
      "|Calvin Klein Men'...|B00062NHH0|  620| 4.162903225806452|\n",
      "|OAKI Kids Rubber ...|B00UPN42RY|  791| 4.495575221238938|\n",
      "|Marino Avenue Men...|B00XT15P8E| 1790| 4.732960893854749|\n",
      "|MJ Metals Jewelry...|B00G8Q7JZ4|  631| 4.812995245641838|\n",
      "|Secret Wishes Del...|B000EE1NNA|  520|3.4692307692307693|\n",
      "|Lush Moda Seamles...|B018KRRC2I|  854| 3.728337236533958|\n",
      "|Ingrid &amp; Isab...|B005N7YWX6| 1640|4.3012195121951216|\n",
      "|i play. Kids &amp...|B004O8M304| 1009| 4.128840436075322|\n",
      "|Angerella Polka V...|B00YP2TNZ2|  573| 3.825479930191972|\n",
      "|Best RFID Blockin...|B00GXE331K| 1873| 4.225840896956754|\n",
      "|Powerstep Pinnacl...|B000KPIHQ4| 4270| 4.517330210772834|\n",
      "|Kearia Women Shor...|B019Q577XC|  735| 3.763265306122449|\n",
      "|Scarleton Large S...|B009RUKQ2G| 1500| 4.198666666666667|\n",
      "|DALIX Bucket Hats...|B00DHCZVMK|  594| 3.951178451178451|\n",
      "|Ear Mitts Bandles...|B001F8LJ92|  641| 4.221528861154447|\n",
      "|Allegra K Women B...|B009PMILQE|  855| 3.433918128654971|\n",
      "|UpSpring C-Panty ...|B003XH69PW|  884| 3.978506787330317|\n",
      "+--------------------+----------+-----+------------------+\n",
      "only showing top 20 rows\n",
      "\n"
     ]
    }
   ],
   "source": [
    "#1: AMAZON_FASHION\n",
    "\n",
    "#Task: Load the raw data from HDFS, filter out the fields we don't need. Then, write back to the HDFS\n",
    "originalDF = spark.read.json(\"hdfs://orion11:21001/p4/AMAZON_FASHION.json\")\n",
    "\n",
    "originalDF.createOrReplaceTempView(\"view1\")\n",
    "\n",
    "\n",
    "sqlDF1 = spark.sql(\"SELECT asin, COUNT(*) AS count, AVG(overall) as average_score FROM view1 WHERE verified = True GROUP BY asin\")\n",
    "\n",
    "\n",
    "sqlDF1.createOrReplaceTempView(\"view2\")\n",
    "\n",
    "\n",
    "#products with bad reviews\n",
    "#sqlDF2 = spark.sql(\"SELECT title, asin, count, average_score FROM view2 LEFT JOIN viewMetaData ON view2.asin = viewMetaData.product_id WHERE count > 500 ORDER BY average_score ASC\")\n",
    "\n",
    "#sqlDF2.show()\n",
    "\n",
    "#products with good reviews\n",
    "sqlDF3 = spark.sql(\"SELECT asin, count, average_score FROM view2 WHERE count > 500 ORDER BY average_score DESC\")\n",
    "\n",
    "sqlDF3.createOrReplaceTempView(\"view3\")\n",
    "\n",
    "\n",
    "sqlDF4 = spark.sql(\"SELECT title, asin, count, average_score FROM view3 LEFT JOIN viewMetaData ON view3.asin = viewMetadata.product_id\")\n",
    "\n",
    "sqlDF4.show()"
   ]
  },
  {
   "cell_type": "code",
   "execution_count": null,
   "metadata": {},
   "outputs": [],
   "source": []
  }
 ],
 "metadata": {
  "kernelspec": {
   "display_name": "Python 3",
   "language": "python",
   "name": "python3"
  },
  "language_info": {
   "codemirror_mode": {
    "name": "ipython",
    "version": 3
   },
   "file_extension": ".py",
   "mimetype": "text/x-python",
   "name": "python",
   "nbconvert_exporter": "python",
   "pygments_lexer": "ipython3",
   "version": "3.7.3"
  }
 },
 "nbformat": 4,
 "nbformat_minor": 2
}
