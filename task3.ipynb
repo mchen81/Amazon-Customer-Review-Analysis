{
 "cells": [
  {
   "cell_type": "code",
   "execution_count": 4,
   "metadata": {},
   "outputs": [
    {
     "name": "stdout",
     "output_type": "stream",
     "text": [
      "root\n",
      " |-- asin: string (nullable = true)\n",
      " |-- image: array (nullable = true)\n",
      " |    |-- element: string (containsNull = true)\n",
      " |-- overall: double (nullable = true)\n",
      " |-- reviewText: string (nullable = true)\n",
      " |-- reviewTime: string (nullable = true)\n",
      " |-- reviewerID: string (nullable = true)\n",
      " |-- reviewerName: string (nullable = true)\n",
      " |-- style: struct (nullable = true)\n",
      " |    |-- Color:: string (nullable = true)\n",
      " |    |-- Format:: string (nullable = true)\n",
      " |    |-- Gem Type:: string (nullable = true)\n",
      " |    |-- Item Display Length:: string (nullable = true)\n",
      " |    |-- Item Package Quantity:: string (nullable = true)\n",
      " |    |-- Length:: string (nullable = true)\n",
      " |    |-- Material:: string (nullable = true)\n",
      " |    |-- Metal Type:: string (nullable = true)\n",
      " |    |-- Package Quantity:: string (nullable = true)\n",
      " |    |-- Scent Name:: string (nullable = true)\n",
      " |    |-- Shape:: string (nullable = true)\n",
      " |    |-- Size Name:: string (nullable = true)\n",
      " |    |-- Size:: string (nullable = true)\n",
      " |    |-- Style Name:: string (nullable = true)\n",
      " |    |-- Style:: string (nullable = true)\n",
      " |    |-- Team Name:: string (nullable = true)\n",
      " |-- summary: string (nullable = true)\n",
      " |-- unixReviewTime: long (nullable = true)\n",
      " |-- verified: boolean (nullable = true)\n",
      " |-- vote: string (nullable = true)\n",
      "\n"
     ]
    }
   ],
   "source": [
    "#Task: Load the raw data from HDFS, filter out the fields we don't need. Then, write back to the HDFS\n",
    "originalDF = spark.read.json(\"hdfs://orion11:21001/p4/AMAZON_FASHION.json\")\n",
    "\n",
    "originalDF.printSchema()"
   ]
  },
  {
   "cell_type": "code",
   "execution_count": 5,
   "metadata": {},
   "outputs": [],
   "source": [
    "originalDF.createOrReplaceTempView(\"AMAZON_FASHION\")"
   ]
  },
  {
   "cell_type": "code",
   "execution_count": 6,
   "metadata": {},
   "outputs": [],
   "source": [
    "sqlDF1 = spark.sql(\"SELECT asin, COUNT(*) AS count FROM AMAZON_FASHION GROUP BY asin\")"
   ]
  },
  {
   "cell_type": "code",
   "execution_count": 7,
   "metadata": {},
   "outputs": [],
   "source": [
    "sqlDF1.createOrReplaceTempView(\"sqlDF1View\")"
   ]
  },
  {
   "cell_type": "code",
   "execution_count": 8,
   "metadata": {},
   "outputs": [],
   "source": [
    "sqlDF2 = spark.sql(\"SELECT * FROM sqlDF1View WHERE count > 100\")"
   ]
  },
  {
   "cell_type": "code",
   "execution_count": 9,
   "metadata": {},
   "outputs": [
    {
     "name": "stdout",
     "output_type": "stream",
     "text": [
      "+----------+-----+\n",
      "|      asin|count|\n",
      "+----------+-----+\n",
      "|B011MP1ODS|  332|\n",
      "|B015CFTI6O|  114|\n",
      "|B01641CJOI|  167|\n",
      "|B017X9JBXW|  214|\n",
      "|B00Q8JSY8M|  177|\n",
      "|B00SCVJBAY|  143|\n",
      "|B00FXKK44E|  101|\n",
      "|B009046U2Y|  171|\n",
      "|B009MA34NY|  380|\n",
      "|B0017U1KBK| 1828|\n",
      "|B01H6ED2IY|  115|\n",
      "|B000YUIGSY|  166|\n",
      "|B00EZJ1INA|  109|\n",
      "|B0039X40OC|  104|\n",
      "|B01EUFORG8|  240|\n",
      "|B000GHMRLW| 1418|\n",
      "|B009ERSRDM|  237|\n",
      "|B005XNCH3W|  204|\n",
      "|B01DPGKDPC|  302|\n",
      "|B01BKVWKCS|  142|\n",
      "+----------+-----+\n",
      "only showing top 20 rows\n",
      "\n"
     ]
    }
   ],
   "source": [
    "sqlDF2.show()"
   ]
  },
  {
   "cell_type": "code",
   "execution_count": 11,
   "metadata": {},
   "outputs": [],
   "source": [
    "sqlDF2.createOrReplaceTempView(\"sqlDF1View2\")"
   ]
  },
  {
   "cell_type": "code",
   "execution_count": 16,
   "metadata": {},
   "outputs": [],
   "source": [
    "sqlDF3 = spark.sql(\"SELECT sqlDF1View2.asin, AVG(AMAZON_FASHION.overall) FROM sqlDF1View2 LEFT JOIN AMAZON_FASHION ON sqlDF1View2.asin = AMAZON_FASHION.asin GROUP BY sqlDF1View2.asin ORDER BY AVG(AMAZON_FASHION.overall) DESC\")"
   ]
  },
  {
   "cell_type": "code",
   "execution_count": 17,
   "metadata": {},
   "outputs": [
    {
     "name": "stdout",
     "output_type": "stream",
     "text": [
      "+----------+------------------+\n",
      "|      asin|      avg(overall)|\n",
      "+----------+------------------+\n",
      "|B0148B7EJ6| 4.907801418439717|\n",
      "|B0006HB4XE| 4.858267716535433|\n",
      "|B011PLYVCA| 4.856209150326797|\n",
      "|B01B5BWTNS| 4.844990548204159|\n",
      "|B00YWSNUO4| 4.831858407079646|\n",
      "|B00D8FJF6O|4.8274111675126905|\n",
      "|B00RLSCLJM| 4.826003298515668|\n",
      "|B0087UIAMK|  4.81294964028777|\n",
      "|B00G8Q7JZ4| 4.807453416149069|\n",
      "|B002Z3N1HE| 4.793103448275862|\n",
      "|B01BKVWKCS| 4.788732394366197|\n",
      "|B01CEZSSXY| 4.788617886178862|\n",
      "|B00CZ50F3A| 4.780821917808219|\n",
      "|B00GRDC4BM| 4.771653543307087|\n",
      "|B001XOQTSE| 4.770623742454728|\n",
      "|B00GRDC372| 4.764705882352941|\n",
      "|B00KGMGACO| 4.758620689655173|\n",
      "|B00409FL4M| 4.752475247524752|\n",
      "|B00XCWZBUW| 4.747191011235955|\n",
      "|B00GI76P3K| 4.742857142857143|\n",
      "+----------+------------------+\n",
      "only showing top 20 rows\n",
      "\n"
     ]
    }
   ],
   "source": [
    "sqlDF3.show()"
   ]
  },
  {
   "cell_type": "code",
   "execution_count": null,
   "metadata": {},
   "outputs": [],
   "source": []
  }
 ],
 "metadata": {
  "kernelspec": {
   "display_name": "Python 3",
   "language": "python",
   "name": "python3"
  },
  "language_info": {
   "codemirror_mode": {
    "name": "ipython",
    "version": 3
   },
   "file_extension": ".py",
   "mimetype": "text/x-python",
   "name": "python",
   "nbconvert_exporter": "python",
   "pygments_lexer": "ipython3",
   "version": "3.7.3"
  }
 },
 "nbformat": 4,
 "nbformat_minor": 2
}
